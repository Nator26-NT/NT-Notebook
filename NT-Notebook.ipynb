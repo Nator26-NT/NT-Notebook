{
 "cells": [
  {
   "cell_type": "markdown",
   "id": "0411c5af-b4da-4f7d-9edf-b2c1227b5d25",
   "metadata": {},
   "source": [
    "Print(\"Introduction\")"
   ]
  },
  {
   "cell_type": "markdown",
   "id": "12dbb261-96c3-4f04-a362-dd8701636df4",
   "metadata": {},
   "source": [
    "data_science_language = [\"python\",\"scala\",\"r programming\",\"java,SQL\"]"
   ]
  },
  {
   "cell_type": "markdown",
   "id": "99f08c2b-8ba7-4877-887e-af33085bc95b",
   "metadata": {},
   "source": [
    "print(data_science_language)"
   ]
  },
  {
   "cell_type": "markdown",
   "id": "5c821cf6-5038-4ade-8c90-7f570f98acf9",
   "metadata": {},
   "source": [
    "python\n",
    "scala\n",
    "r \n",
    "java\n",
    "sql"
   ]
  },
  {
   "cell_type": "markdown",
   "id": "431feed9-83bd-43be-9dd5-b9f7399c12d5",
   "metadata": {},
   "source": [
    "|Name      |language\n",
    "|:--       |--:\n",
    "|matplotlib |python\n",
    "|pandas     |python\n",
    "|numpy      |python\n",
    "|scipy      |pyton\n",
    "|keras      |python\n",
    "|Tensorflow |python\n",
    "|theano     |python\n",
    "|scikit-learn |python\n",
    "|pytouch     |python\n"
   ]
  },
  {
   "cell_type": "markdown",
   "id": "8735bb0f-4021-41d1-9c13-7ab6fc5f98f8",
   "metadata": {},
   "source": [
    "1+1"
   ]
  },
  {
   "cell_type": "markdown",
   "id": "843a3730-6aa3-499f-a53a-511e7cc349fd",
   "metadata": {},
   "source": [
    "2*2\n",
    "2+2"
   ]
  },
  {
   "cell_type": "markdown",
   "id": "70728871-b7ec-4026-95d8-76bfbcf11baa",
   "metadata": {},
   "source": [
    "hours = 2\n",
    "minutes = 0.60\n",
    "INminutes = hours/minutes\n",
    "print(INminutes)"
   ]
  },
  {
   "cell_type": "markdown",
   "id": "b1b356b4-a392-4e7d-b336-08e54bde4fbf",
   "metadata": {},
   "source": [
    "PaP dish to do list\n",
    "boil water\n",
    "insert maize meal\n",
    "stir until the is now dry maize meal\n",
    "inbetween stiring make sure to close the pot for atleast 9minutes\n",
    "dont leave the pot open always keep it clothes\n",
    "serve with gravy and meet\n",
    "enjoy!\n"
   ]
  },
  {
   "cell_type": "markdown",
   "id": "2d283aca-9b54-4a99-8b86-aca2b3cb8073",
   "metadata": {},
   "source": [
    "the name of this notebook author is Stephen king"
   ]
  }
 ],
 "metadata": {
  "kernelspec": {
   "display_name": "Python 3 (ipykernel)",
   "language": "python",
   "name": "python3"
  },
  "language_info": {
   "codemirror_mode": {
    "name": "ipython",
    "version": 3
   },
   "file_extension": ".py",
   "mimetype": "text/x-python",
   "name": "python",
   "nbconvert_exporter": "python",
   "pygments_lexer": "ipython3",
   "version": "3.11.7"
  }
 },
 "nbformat": 4,
 "nbformat_minor": 5
}
